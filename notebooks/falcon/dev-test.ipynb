{
 "cells": [
  {
   "cell_type": "code",
   "execution_count": 1,
   "id": "a17f7986",
   "metadata": {},
   "outputs": [],
   "source": [
    "from falcon_exchs.binance.binance_m import BinanceM\n",
    "from falcon_exchs.binance.binance_s import BinanceS\n",
    "from falcon_exchs.binance.binance_u import BinanceU\n",
    "from falcon_exchs.binance.binance_p import BinancePU, BinancePM\n",
    "from falcon_exchs.order import Order\n",
    "from falcon_exchs.enum_types import OrderSide, OrderType,ArbOrderType\n",
    "from pprint import pprint"
   ]
  },
  {
   "cell_type": "code",
   "execution_count": 2,
   "id": "98476c0a",
   "metadata": {},
   "outputs": [],
   "source": [
    "# m_cli = BinanceM(account_name=\"bntest01\")\n",
    "# s_cli = BinanceS(account_name=\"bntest01\")\n",
    "# u_cli = BinanceU(account_name=\"bntest01\")\n",
    "pm_cli = BinancePM(account_name=\"bntest01\")\n",
    "pu_cli = BinancePU(account_name=\"bntest01\")"
   ]
  },
  {
   "cell_type": "code",
   "execution_count": 3,
   "id": "4fcf1630",
   "metadata": {},
   "outputs": [],
   "source": [
    "# await s_cli.async_init()\n",
    "# await m_cli.async_init()\n",
    "# await u_cli.async_init()\n",
    "await pm_cli.async_init()\n",
    "await pu_cli.async_init()\n",
    "\n",
    "# await s_cli.update_insts()\n",
    "# await u_cli.update_insts()\n",
    "await pm_cli.update_insts()\n",
    "await pu_cli.update_insts()"
   ]
  },
  {
   "cell_type": "code",
   "execution_count": 4,
   "id": "964cca08",
   "metadata": {},
   "outputs": [
    {
     "data": {
      "text/plain": [
       "'DOGEUSDT'"
      ]
     },
     "execution_count": 4,
     "metadata": {},
     "output_type": "execute_result"
    }
   ],
   "source": [
    "pm_cli.meta_symbol_to_exchange_symbol(\"DOGE_USDT\")"
   ]
  },
  {
   "cell_type": "code",
   "execution_count": 7,
   "id": "882255ee",
   "metadata": {},
   "outputs": [
    {
     "name": "stdout",
     "output_type": "stream",
     "text": [
      "{}\n",
      "{'DOGE': Balance(meta_asset='DOGE', total=0.0, free=0.0, borrowed=0),\n",
      " 'USDT': Balance(meta_asset='USDT',\n",
      "                 total=162.71976673,\n",
      "                 free=73.13913673,\n",
      "                 borrowed=0)}\n"
     ]
    }
   ],
   "source": [
    "pos = await pu_cli.get_positions()\n",
    "bal = await pm_cli.get_balances()\n",
    "pprint(pos)\n",
    "pprint(bal)"
   ]
  },
  {
   "cell_type": "code",
   "execution_count": 22,
   "id": "327c7507",
   "metadata": {},
   "outputs": [
    {
     "data": {
      "text/plain": [
       "Order(account_name='bntest01', exch_name=<ExchangeName.BINANCE: 'BINANCE'>, market_type=<MarketType.MARGIN: 'MARGIN'>, inst=Instrument(exchange_name=<ExchangeName.BINANCE: 'BINANCE'>, market_type=<MarketType.MARGIN: 'MARGIN'>, margin_trading=True, exchange_symbol='DOGEUSDT', market_symbol='DOGE_USDT|SP|BINANCE', meta_symbol='DOGE_USDT', delivery_date='', base_asset='DOGE', quote_asset='USDT', meta_base_asset='DOGE', price_multiplier=1, quantity_multiplier=Decimal('1'), tick_size=Decimal('0.00001000'), lot_size=Decimal('1.00000000'), min_lot_size=Decimal('1.00000000'), min_order_notional=Decimal('1.00000000'), max_position_qty=Decimal('Infinity'), max_position_notional=Decimal('Infinity'), status=<InstStatus.TRADING: 'TRADING'>, trade_in_notional=False), order_side=<OrderSide.SELL: 'SELL'>, meta_price=Decimal('0'), meta_quantity=Decimal('0'), arb_order_type=<ArbOrderType.MARKET: 'MARKET'>, meta_take_profit_price=Decimal('0'), meta_stop_loss_price=Decimal('0'), price=Decimal('0'), quantity=Decimal('13'), type=<OrderType.LIMIT: 'Limit'>, time_in_force=<TimeInForce.UNKNOWN: 'Unknown'>, take_profit_price=Decimal('0'), stop_loss_price=Decimal('0'), reduce_only=False, custom_order_id='Kxr7FZYY5bq06BG45TvbPDCslFLJz1cd', market_order_id='', last_cancel_timestamp=0, last_fetch_timestamp=0, create_timestamp=1755584261654, place_timestamp=1755584261675, rejected_reason=<RejectedReason.INSUFFICENT_BALANCE: 'INSUFFICENT_BALANCE'>, rejected_message='Account has insufficient balance for requested action.(-2010)', state=<OrderStatus.REJECTED: 'Rejected'>, total_average_price=Decimal('0'), total_filled_quantity=Decimal('0'), last_average_price=Decimal('0'), last_filled_quantity=Decimal('0'), extras={})"
      ]
     },
     "execution_count": 22,
     "metadata": {},
     "output_type": "execute_result"
    }
   ],
   "source": [
    "await pm_cli.place_order(\n",
    "    Order(\n",
    "        quantity=13,\n",
    "        inst=pm_cli.insts[\"DOGE_USDT\"],\n",
    "        order_side=OrderSide.SELL,\n",
    "        arb_order_type=ArbOrderType.MARKET,\n",
    "    ),\n",
    "    debug=False,\n",
    ")"
   ]
  },
  {
   "cell_type": "code",
   "execution_count": 6,
   "id": "235cb982",
   "metadata": {},
   "outputs": [
    {
     "data": {
      "text/plain": [
       "Order(account_name='bntest01', exch_name=<ExchangeName.BINANCE: 'BINANCE'>, market_type=<MarketType.UFUTURES: 'UFUTURES'>, inst=Instrument(exchange_name=<ExchangeName.BINANCE: 'BINANCE'>, market_type=<MarketType.UFUTURES: 'UFUTURES'>, margin_trading=False, exchange_symbol='DOGEUSDT', market_symbol='DOGE_USDT|LPS|BINANCE', meta_symbol='DOGE_USDT', delivery_date='', base_asset='DOGE', quote_asset='USDT', meta_base_asset='DOGE', price_multiplier=1, quantity_multiplier=Decimal('1'), tick_size=Decimal('0.000010'), lot_size=Decimal('1'), min_lot_size=Decimal('1'), min_order_notional=Decimal('5'), max_position_qty=Decimal('Infinity'), max_position_notional=Decimal('4000000'), status=<InstStatus.TRADING: 'TRADING'>, trade_in_notional=False), order_side=<OrderSide.SELL: 'SELL'>, meta_price=Decimal('0'), meta_quantity=Decimal('0'), arb_order_type=<ArbOrderType.MARKET: 'MARKET'>, meta_take_profit_price=Decimal('0'), meta_stop_loss_price=Decimal('0'), price=Decimal('0'), quantity=Decimal('183'), type=<OrderType.LIMIT: 'Limit'>, time_in_force=<TimeInForce.UNKNOWN: 'Unknown'>, take_profit_price=Decimal('0'), stop_loss_price=Decimal('0'), reduce_only=False, custom_order_id='T9AyuJryenet5dxxfPLWLgFJZywoNxK8', market_order_id='', last_cancel_timestamp=0, last_fetch_timestamp=0, create_timestamp=1755584331264, place_timestamp=1755584331286, rejected_reason=<RejectedReason.UNKNOWN: 'UNKNOWN'>, rejected_message='', state=<OrderStatus.FILLED: 'Filled'>, total_average_price=Decimal('0.217000'), total_filled_quantity=Decimal('183'), last_average_price=Decimal('0'), last_filled_quantity=Decimal('183'), extras={})"
      ]
     },
     "execution_count": 6,
     "metadata": {},
     "output_type": "execute_result"
    }
   ],
   "source": [
    "await pu_cli.place_order(\n",
    "    Order(\n",
    "        quantity=183,\n",
    "        inst=pu_cli.insts[\"DOGE_USDT\"],\n",
    "        order_side=OrderSide.SELL,\n",
    "        arb_order_type=ArbOrderType.MARKET,\n",
    "    ),\n",
    "    debug=False,\n",
    ")"
   ]
  },
  {
   "cell_type": "code",
   "execution_count": null,
   "id": "053ac641",
   "metadata": {},
   "outputs": [],
   "source": []
  }
 ],
 "metadata": {
  "kernelspec": {
   "display_name": "falcon.dev",
   "language": "python",
   "name": "python3"
  },
  "language_info": {
   "codemirror_mode": {
    "name": "ipython",
    "version": 3
   },
   "file_extension": ".py",
   "mimetype": "text/x-python",
   "name": "python",
   "nbconvert_exporter": "python",
   "pygments_lexer": "ipython3",
   "version": "3.12.11"
  }
 },
 "nbformat": 4,
 "nbformat_minor": 5
}
