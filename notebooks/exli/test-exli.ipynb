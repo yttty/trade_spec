{
 "cells": [
  {
   "cell_type": "code",
   "execution_count": 51,
   "id": "8a5737a4",
   "metadata": {},
   "outputs": [],
   "source": [
    "from exli.get_client import get_rest_client, get_rest_wrapper\n",
    "from exli.enum_type import Exchange, InstType, AccountType, LegType\n",
    "from exli.legs_manager import LegsConfig, LegsManager\n",
    "from exli.data_type import Leg\n",
    "from exli.utils import to_decimal"
   ]
  },
  {
   "cell_type": "code",
   "execution_count": 52,
   "id": "9aad1e1b",
   "metadata": {},
   "outputs": [],
   "source": [
    "legs_mngr = LegsManager.from_list(\n",
    "    [\n",
    "        {\n",
    "            \"acct\": \"bntest01\",\n",
    "            \"exch\": \"BINANCEUNIFIED\",\n",
    "            \"acct_type\": \"LPS\",\n",
    "        },\n",
    "        {\n",
    "            \"acct\": \"bntest01\",\n",
    "            \"exch\": \"BINANCEUNIFIED\",\n",
    "            \"acct_type\": \"MARGIN\",\n",
    "        },\n",
    "    ]\n",
    ")"
   ]
  },
  {
   "cell_type": "code",
   "execution_count": 53,
   "id": "54efafea",
   "metadata": {},
   "outputs": [
    {
     "name": "stdout",
     "output_type": "stream",
     "text": [
      "['1INCH_USDT', '1MBABYDOGE_USDT', 'A2Z_USDT', 'AAVE_USDT', 'ACE_USDT', 'ACH_USDT', 'ACT_USDT', 'ACX_USDT', 'ADA_USDT', 'AEVO_USDT', 'AGLD_USDT', 'AIXBT_USDT', 'AI_USDT', 'ALGO_USDT', 'ALICE_USDT', 'ALPINE_USDT', 'ALT_USDT', 'ANIME_USDT', 'ANKR_USDT', 'APE_USDT', 'API3_USDT', 'APT_USDT', 'ARB_USDT', 'ARKM_USDT', 'ARK_USDT', 'ARPA_USDT', 'AR_USDT', 'ASR_USDT', 'ASTR_USDT', 'ATA_USDT', 'ATOM_USDT', 'AUCTION_USDT', 'AVAX_USDT', 'AVA_USDT', 'AWE_USDT', 'AXL_USDT', 'AXS_USDT', 'A_USDT', 'BABY_USDT', 'BAKE_USDT', 'BANANAS31_USDT', 'BANANA_USDT', 'BAND_USDT', 'BAT_USDT', 'BB_USDT', 'BCH_USDT', 'BEAMX_USDT', 'BEL_USDT', 'BERA_USDT', 'BICO_USDT', 'BIGTIME_USDT', 'BIO_USDT', 'BLUR_USDT', 'BMT_USDT', 'BNB_USDT', 'BNT_USDT', 'BOME_USDT', 'BONK_USDT', 'BROCCOLI714_USDT', 'BTC_USDT', 'C98_USDT', 'CAKE_USDT', 'CATI_USDT', 'CAT_USDT', 'CELO_USDT', 'CELR_USDT', 'CETUS_USDT', 'CFX_USDT', 'CGPT_USDT', 'CHEEMS_USDT', 'CHESS_USDT', 'CHR_USDT', 'CHZ_USDT', 'CKB_USDT', 'COMP_USDT', 'COOKIE_USDT', 'COS_USDT', 'COTI_USDT', 'COW_USDT', 'CRV_USDT', 'CTK_USDT', 'CTSI_USDT', 'CVC_USDT', 'CVX_USDT', 'CYBER_USDT', 'C_USDT', 'DASH_USDT', 'DEGO_USDT', 'DENT_USDT', 'DEXE_USDT', 'DF_USDT', 'DIA_USDT', 'DOGE_USDT', 'DOGS_USDT', 'DOT_USDT', 'DUSK_USDT', 'DYDX_USDT', 'DYM_USDT', 'D_USDT', 'EDU_USDT', 'EGLD_USDT', 'EIGEN_USDT', 'ENA_USDT', 'ENJ_USDT', 'ENS_USDT', 'EPIC_USDT', 'ERA_USDT', 'ETC_USDT', 'ETHFI_USDT', 'ETH_USDT', 'FET_USDT', 'FIDA_USDT', 'FIL_USDT', 'FIO_USDT', 'FIS_USDT', 'FLM_USDT', 'FLOKI_USDT', 'FLOW_USDT', 'FLUX_USDT', 'FORM_USDT', 'FORTH_USDT', 'FUN_USDT', 'FXS_USDT', 'GALA_USDT', 'GAS_USDT', 'GHST_USDT', 'GLM_USDT', 'GMT_USDT', 'GMX_USDT', 'GPS_USDT', 'GRT_USDT', 'GTC_USDT', 'GUN_USDT', 'G_USDT', 'HAEDAL_USDT', 'HBAR_USDT', 'HEI_USDT', 'HFT_USDT', 'HIFI_USDT', 'HIGH_USDT', 'HIVE_USDT', 'HMSTR_USDT', 'HOME_USDT', 'HOOK_USDT', 'HOT_USDT', 'HUMA_USDT', 'HYPER_USDT', 'ICP_USDT', 'ICX_USDT', 'ID_USDT', 'ILV_USDT', 'IMX_USDT', 'INIT_USDT', 'INJ_USDT', 'IOST_USDT', 'IOTA_USDT', 'IOTX_USDT', 'IO_USDT', 'JASMY_USDT', 'JOE_USDT', 'JST_USDT', 'JTO_USDT', 'JUP_USDT', 'KAIA_USDT', 'KAITO_USDT', 'KAVA_USDT', 'KDA_USDT', 'KERNEL_USDT', 'KMNO_USDT', 'KNC_USDT', 'KSM_USDT', 'LAYER_USDT', 'LA_USDT', 'LDO_USDT', 'LINK_USDT', 'LISTA_USDT', 'LPT_USDT', 'LQTY_USDT', 'LRC_USDT', 'LSK_USDT', 'LTC_USDT', 'LUMIA_USDT', 'LUNA_USDT', 'LUNC_USDT', 'MAGIC_USDT', 'MANA_USDT', 'MANTA_USDT', 'MASK_USDT', 'MAV_USDT', 'MBOX_USDT', 'MEME_USDT', 'METIS_USDT', 'ME_USDT', 'MINA_USDT', 'MKR_USDT', 'MLN_USDT', 'MOVE_USDT', 'MOVR_USDT', 'MTL_USDT', 'MUBARAK_USDT', 'NEAR_USDT', 'NEIRO_USDT', 'NEO_USDT', 'NEWT_USDT', 'NFP_USDT', 'NIL_USDT', 'NKN_USDT', 'NMR_USDT', 'NOT_USDT', 'NTRN_USDT', 'NXPC_USDT', 'OGN_USDT', 'OG_USDT', 'OMNI_USDT', 'OM_USDT', 'ONDO_USDT', 'ONE_USDT', 'ONG_USDT', 'ONT_USDT', 'OP_USDT', 'ORCA_USDT', 'ORDI_USDT', 'OXT_USDT', 'PARTI_USDT', 'PAXG_USDT', 'PENDLE_USDT', 'PENGU_USDT', 'PEOPLE_USDT', 'PEPE_USDT', 'PERP_USDT', 'PHA_USDT', 'PHB_USDT', 'PIXEL_USDT', 'PLUME_USDT', 'PNUT_USDT', 'POLYX_USDT', 'POL_USDT', 'PORTAL_USDT', 'POWR_USDT', 'PROM_USDT', 'PROVE_USDT', 'PUNDIX_USDT', 'PYTH_USDT', 'QNT_USDT', 'QTUM_USDT', 'QUICK_USDT', 'RARE_USDT', 'RDNT_USDT', 'RED_USDT', 'REI_USDT', 'RENDER_USDT', 'RESOLV_USDT', 'REZ_USDT', 'RIF_USDT', 'RLC_USDT', 'RONIN_USDT', 'ROSE_USDT', 'RPL_USDT', 'RSR_USDT', 'RUNE_USDT', 'RVN_USDT', 'SAGA_USDT', 'SAHARA_USDT', 'SAND_USDT', 'SANTOS_USDT', 'SATS_USDT', 'SCRT_USDT', 'SCR_USDT', 'SEI_USDT', 'SFP_USDT', 'SHELL_USDT', 'SHIB_USDT', 'SIGN_USDT', 'SKL_USDT', 'SLP_USDT', 'SNX_USDT', 'SOLV_USDT', 'SOL_USDT', 'SOPH_USDT', 'SPELL_USDT', 'SPK_USDT', 'SSV_USDT', 'STEEM_USDT', 'STG_USDT', 'STORJ_USDT', 'STO_USDT', 'STRK_USDT', 'STX_USDT', 'SUI_USDT', 'SUN_USDT', 'SUPER_USDT', 'SUSHI_USDT', 'SXP_USDT', 'SXT_USDT', 'SYN_USDT', 'SYRUP_USDT', 'SYS_USDT', 'S_USDT', 'TAO_USDT', 'THETA_USDT', 'THE_USDT', 'TIA_USDT', 'TLM_USDT', 'TNSR_USDT', 'TON_USDT', 'TOWNS_USDT', 'TRB_USDT', 'TREE_USDT', 'TRUMP_USDT', 'TRU_USDT', 'TRX_USDT', 'TST_USDT', 'TURBO_USDT', 'TUT_USDT', 'TWT_USDT', 'T_USDT', 'UMA_USDT', 'UNI_USDT', 'USDC_USDT', 'USTC_USDT', 'USUAL_USDT', 'VANA_USDT', 'VANRY_USDT', 'VELODROME_USDT', 'VET_USDT', 'VIC_USDT', 'VIRTUAL_USDT', 'VOXEL_USDT', 'VTHO_USDT', 'WAXP_USDT', 'WCT_USDT', 'WIF_USDT', 'WLD_USDT', 'WOO_USDT', 'W_USDT', 'XAI_USDT', 'XEC_USDT', 'XLM_USDT', 'XRP_USDT', 'XTZ_USDT', 'XVG_USDT', 'XVS_USDT', 'YFI_USDT', 'YGG_USDT', 'ZEC_USDT', 'ZEN_USDT', 'ZIL_USDT', 'ZK_USDT', 'ZRO_USDT', 'ZRX_USDT']\n"
     ]
    }
   ],
   "source": [
    "await legs_mngr.init_arb_insts()\n",
    "print(legs_mngr.arb_symbols)"
   ]
  },
  {
   "cell_type": "code",
   "execution_count": 54,
   "id": "d0fd1c51",
   "metadata": {},
   "outputs": [
    {
     "data": {
      "text/plain": [
       "-1.23158859"
      ]
     },
     "execution_count": 54,
     "metadata": {},
     "output_type": "execute_result"
    }
   ],
   "source": [
    "asset_sr, position_sr, usdt = await legs_mngr.get_leg_holdings(LegType.QUOTE)\n",
    "usdt"
   ]
  },
  {
   "cell_type": "code",
   "execution_count": 46,
   "id": "47b99e2f",
   "metadata": {},
   "outputs": [
    {
     "data": {
      "text/plain": [
       "np.float64(0.0)"
      ]
     },
     "execution_count": 46,
     "metadata": {},
     "output_type": "execute_result"
    }
   ],
   "source": [
    "asset_sr[\"DOGE_USDT\"]"
   ]
  },
  {
   "cell_type": "code",
   "execution_count": 47,
   "id": "21a80a18",
   "metadata": {},
   "outputs": [
    {
     "data": {
      "text/plain": [
       "np.float64(-69.0)"
      ]
     },
     "execution_count": 47,
     "metadata": {},
     "output_type": "execute_result"
    }
   ],
   "source": [
    "position_sr[\"DOGE_USDT\"]"
   ]
  },
  {
   "cell_type": "code",
   "execution_count": 48,
   "id": "1c8fed66",
   "metadata": {},
   "outputs": [
    {
     "data": {
      "text/plain": [
       "158.24918465"
      ]
     },
     "execution_count": 48,
     "metadata": {},
     "output_type": "execute_result"
    }
   ],
   "source": [
    "asset_sr, position_sr, usdt = await legs_mngr.get_leg_holdings(LegType.HEDGE)\n",
    "usdt"
   ]
  },
  {
   "cell_type": "code",
   "execution_count": 39,
   "id": "c02f2e03",
   "metadata": {},
   "outputs": [
    {
     "data": {
      "text/plain": [
       "np.float64(69.586)"
      ]
     },
     "execution_count": 39,
     "metadata": {},
     "output_type": "execute_result"
    }
   ],
   "source": [
    "asset_sr[\"DOGE_USDT\"]"
   ]
  },
  {
   "cell_type": "code",
   "execution_count": 40,
   "id": "d36bd26f",
   "metadata": {},
   "outputs": [
    {
     "data": {
      "text/plain": [
       "np.float64(0.0)"
      ]
     },
     "execution_count": 40,
     "metadata": {},
     "output_type": "execute_result"
    }
   ],
   "source": [
    "position_sr[\"DOGE_USDT\"]"
   ]
  },
  {
   "cell_type": "code",
   "execution_count": 41,
   "id": "6e08ad32",
   "metadata": {},
   "outputs": [],
   "source": [
    "delta_sr = await legs_mngr.get_arb_delta()"
   ]
  },
  {
   "cell_type": "code",
   "execution_count": 42,
   "metadata": {},
   "outputs": [
    {
     "data": {
      "text/plain": [
       "DOGE_USDT    0.586\n",
       "dtype: float64"
      ]
     },
     "execution_count": 42,
     "metadata": {},
     "output_type": "execute_result"
    }
   ],
   "source": [
    "delta_sr[delta_sr != 0]"
   ]
  },
  {
   "cell_type": "code",
   "execution_count": 43,
   "id": "d8111dbd",
   "metadata": {},
   "outputs": [],
   "source": [
    "cli = legs_mngr.get_client(LegType.QUOTE)"
   ]
  },
  {
   "cell_type": "code",
   "execution_count": 56,
   "id": "caa6365d",
   "metadata": {},
   "outputs": [
    {
     "data": {
      "text/plain": [
       "[{'asset': 'USDT',\n",
       "  'totalWalletBalance': '158.25755395',\n",
       "  'crossMarginAsset': '158.25755395',\n",
       "  'crossMarginBorrowed': '0.0',\n",
       "  'crossMarginFree': '158.25755395',\n",
       "  'crossMarginInterest': '0.0',\n",
       "  'crossMarginLocked': '0.0',\n",
       "  'umWalletBalance': '0.0',\n",
       "  'umUnrealizedPNL': '-1.22971524',\n",
       "  'cmWalletBalance': '0.0',\n",
       "  'cmUnrealizedPNL': '0.0',\n",
       "  'updateTime': 1755962944453,\n",
       "  'negativeBalance': '0.0'},\n",
       " {'asset': 'DOGE',\n",
       "  'totalWalletBalance': '69.586',\n",
       "  'crossMarginAsset': '69.586',\n",
       "  'crossMarginBorrowed': '0.0',\n",
       "  'crossMarginFree': '69.586',\n",
       "  'crossMarginInterest': '0.0',\n",
       "  'crossMarginLocked': '0.0',\n",
       "  'umWalletBalance': '0.0',\n",
       "  'umUnrealizedPNL': '0.0',\n",
       "  'cmWalletBalance': '0.0',\n",
       "  'cmUnrealizedPNL': '0.0',\n",
       "  'updateTime': 1755962944453,\n",
       "  'negativeBalance': '0.0'}]"
      ]
     },
     "execution_count": 56,
     "metadata": {},
     "output_type": "execute_result"
    }
   ],
   "source": [
    "await cli.get_balance()"
   ]
  },
  {
   "cell_type": "code",
   "execution_count": null,
   "id": "fa42169d",
   "metadata": {},
   "outputs": [],
   "source": [
    "wpr = legs_mngr.get_wrapper(LegType.QUOTE)"
   ]
  },
  {
   "cell_type": "code",
   "execution_count": null,
   "id": "135fc7ba",
   "metadata": {},
   "outputs": [],
   "source": [
    "await wpr.get_assets()"
   ]
  },
  {
   "cell_type": "code",
   "execution_count": null,
   "metadata": {},
   "outputs": [],
   "source": [
    "await wpr.get_positions()"
   ]
  },
  {
   "cell_type": "code",
   "execution_count": 14,
   "id": "df872ba2",
   "metadata": {},
   "outputs": [],
   "source": [
    "wpr = legs_mngr.get_wrapper(LegType.HEDGE)"
   ]
  },
  {
   "cell_type": "code",
   "execution_count": 20,
   "id": "d8d394c5",
   "metadata": {},
   "outputs": [
    {
     "data": {
      "text/plain": [
       "{'status': 0,\n",
       " 'data': {'USDT': Asset(balance=Decimal('158.24918465'), free=Decimal('158.24918465'), frozen=Decimal('0.0'), type='full', ts=1755962719465),\n",
       "  'DOGE': Asset(balance=Decimal('69.586'), free=Decimal('69.586'), frozen=Decimal('0.0'), type='full', ts=1755962719465)}}"
      ]
     },
     "execution_count": 20,
     "metadata": {},
     "output_type": "execute_result"
    }
   ],
   "source": [
    "await wpr.get_assets()"
   ]
  },
  {
   "cell_type": "code",
   "execution_count": 21,
   "id": "d0f6202e",
   "metadata": {},
   "outputs": [
    {
     "name": "stderr",
     "output_type": "stream",
     "text": [
      "\u001b[32m2025-08-23 15:25:30.517\u001b[0m | \u001b[31m\u001b[1mERROR   \u001b[0m | \u001b[36mexli.base_wrapper\u001b[0m:\u001b[36mwrapper_func\u001b[0m:\u001b[36m40\u001b[0m - \u001b[31m\u001b[1mTraceback (most recent call last):\n",
      "  File \"/home/tim/trade_spec/modules/exli/exli/base_wrapper.py\", line 33, in wrapper_func\n",
      "    ret = await func(*args, **kwargs)\n",
      "          ^^^^^^^^^^^^^^^^^^^^^^^^^^^\n",
      "  File \"/home/tim/trade_spec/modules/exli/exli/binanceunified/wrapper.py\", line 84, in get_positions\n",
      "    raise ValueError(f\"account type {self._account_type} have no positions api\")\n",
      "ValueError: account type MARGIN have no positions api\n",
      "\u001b[0m\n"
     ]
    },
    {
     "data": {
      "text/plain": [
       "{'status': -1, 'msg': 'account type MARGIN have no positions api'}"
      ]
     },
     "execution_count": 21,
     "metadata": {},
     "output_type": "execute_result"
    }
   ],
   "source": [
    "await wpr.get_positions()"
   ]
  },
  {
   "cell_type": "code",
   "execution_count": 19,
   "id": "ba6697c0",
   "metadata": {},
   "outputs": [
    {
     "data": {
      "text/plain": [
       "{'status': 0, 'data': OrderResponse(order_id='11641777974')}"
      ]
     },
     "execution_count": 19,
     "metadata": {},
     "output_type": "execute_result"
    }
   ],
   "source": [
    "await wpr.place_order(side=\"SELL\",symbol=\"DOGEUSDT\", type=\"MARKET\", size=to_decimal(\"344\"))"
   ]
  },
  {
   "cell_type": "code",
   "execution_count": null,
   "id": "38b74961",
   "metadata": {},
   "outputs": [],
   "source": []
  }
 ],
 "metadata": {
  "kernelspec": {
   "display_name": "exli.dev",
   "language": "python",
   "name": "python3"
  },
  "language_info": {
   "codemirror_mode": {
    "name": "ipython",
    "version": 3
   },
   "file_extension": ".py",
   "mimetype": "text/x-python",
   "name": "python",
   "nbconvert_exporter": "python",
   "pygments_lexer": "ipython3",
   "version": "3.12.11"
  }
 },
 "nbformat": 4,
 "nbformat_minor": 5
}
